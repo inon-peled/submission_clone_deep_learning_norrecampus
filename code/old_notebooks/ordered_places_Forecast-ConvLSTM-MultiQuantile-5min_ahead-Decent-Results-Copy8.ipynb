{
 "cells": [
  {
   "cell_type": "code",
   "execution_count": 1,
   "metadata": {},
   "outputs": [
    {
     "name": "stderr",
     "output_type": "stream",
     "text": [
      "/usr/local/lib/python2.7/dist-packages/pandas/core/computation/__init__.py:18: UserWarning: The installed version of numexpr 2.4.3 is not supported in pandas and will be not be used\n",
      "The minimum supported version is 2.4.6\n",
      "\n",
      "  ver=ver, min_ver=_MIN_NUMEXPR_VERSION), UserWarning)\n",
      "Using TensorFlow backend.\n"
     ]
    },
    {
     "data": {
      "application/javascript": [
       "IPython.notebook.set_autosave_interval(60000)"
      ]
     },
     "metadata": {},
     "output_type": "display_data"
    },
    {
     "name": "stdout",
     "output_type": "stream",
     "text": [
      "Autosaving every 60 seconds\n"
     ]
    },
    {
     "data": {
      "text/plain": [
       "'/home/inonpe/jupyter/deep_learning_project_norrecampus/old_notebooks'"
      ]
     },
     "execution_count": 1,
     "metadata": {},
     "output_type": "execute_result"
    }
   ],
   "source": [
    "import os\n",
    "os.environ['CUDA_VISIBLE_DEVICES'] = '1'\n",
    "\n",
    "import time\n",
    "import warnings\n",
    "import numpy as np\n",
    "import tensorflow as tf\n",
    "import pandas as pd\n",
    "from sklearn import datasets, linear_model\n",
    "from numpy import newaxis\n",
    "from keras.layers.core import Dense, Activation, Dropout\n",
    "from keras.layers.recurrent import LSTM\n",
    "from keras.layers.convolutional import Conv3D\n",
    "from keras.layers.convolutional_recurrent import ConvLSTM2D\n",
    "from keras.layers import BatchNormalization\n",
    "from keras.models import Sequential\n",
    "from keras import regularizers\n",
    "import keras.backend as K\n",
    "import statsmodels.formula.api as smf\n",
    "from matplotlib import pyplot as plt\n",
    "from keras.callbacks import ModelCheckpoint\n",
    "\n",
    "plt.style.use('ggplot')\n",
    "%matplotlib inline\n",
    "plt.rcParams['figure.figsize'] = (16, 10)\n",
    "\n",
    "# prevent tensorflow from allocating the entire GPU memory at once\n",
    "config = tf.ConfigProto()\n",
    "config.gpu_options.allow_growth=True\n",
    "sess = tf.Session(config=config)\n",
    "\n",
    "#os.environ['TF_CPP_MIN_LOG_LEVEL'] = '3' #Hide messy TensorFlow warnings\n",
    "#warnings.filterwarnings(\"ignore\") #Hide messy Numpy warnings\n",
    "\n",
    "%autosave 60\n",
    "\n",
    "os.getcwd()"
   ]
  },
  {
   "cell_type": "code",
   "execution_count": 2,
   "metadata": {
    "collapsed": true
   },
   "outputs": [],
   "source": [
    "def load_data(filename, num_lags, bootstrap_size):\n",
    "    assert bootstrap_size > num_lags\n",
    "    \n",
    "    # read data from file\n",
    "    f = open(filename)\n",
    "    series = []\n",
    "    removed_seasonality = [] \n",
    "    removed_std = []\n",
    "    missings = []\n",
    "    for line in f:\n",
    "        splt = line.split(\",\")\n",
    "        series.append(float(splt[0]))\n",
    "        removed_seasonality.append(float(splt[1]))\n",
    "        removed_std.append(float(splt[2]))\n",
    "        missings.append(int(splt[3]))\n",
    "    series = np.array(series)\n",
    "    removed_seasonality = np.array(removed_seasonality)\n",
    "    removed_std = np.array(removed_std)\n",
    "    missings = np.array(missings)\n",
    "    f.close()\n",
    "\n",
    "    # generate lags\n",
    "    X = []\n",
    "    for i in range(bootstrap_size, len(series)):\n",
    "        X.append(series[i-num_lags:i])\n",
    "    X = np.array(X)\n",
    "    \n",
    "    y = series[bootstrap_size:]\n",
    "    removed_seasonality = removed_seasonality[bootstrap_size:]\n",
    "    removed_std = removed_std[bootstrap_size:]\n",
    "    missings = missings[bootstrap_size:]\n",
    "    assert X.shape[0] == y.shape[0]\n",
    "\n",
    "    X = np.reshape(X, (X.shape[0], X.shape[1], 1))\n",
    "\n",
    "    return X, y, removed_seasonality, removed_std, missings"
   ]
  },
  {
   "cell_type": "code",
   "execution_count": 3,
   "metadata": {
    "collapsed": true
   },
   "outputs": [],
   "source": [
    "PLACE_IDS_ORDERED_FROM_NORTH_TO_SOUTH = [\n",
    "    'ChIJZaR1M1hSUkYRxP0WkwYYy_k',\n",
    "    'ChIJj1RhMlhSUkYRxwx00g4P0QE',\n",
    "    'ChIJuYkcKlhSUkYRFPCipW5rTvU',\n",
    "    'ChIJP6TdhFdSUkYRdrsWKXZMAs8',\n",
    "    'ChIJf9Y9sFdSUkYRmaDEJhCweGc',\n",
    "    'ChIJozaGTFZSUkYRNtWl2AGUPkI',\n",
    "    'ChIJ4QuVTlZSUkYRRDRPcHdYULQ',\n",
    "    'ChIJBTt5RlZSUkYR_SyA8BgiwaM',\n",
    "    'ChIJbcDEbFZSUkYRcnQFsIj5j5U'\n",
    "]"
   ]
  },
  {
   "cell_type": "code",
   "execution_count": 4,
   "metadata": {},
   "outputs": [
    {
     "name": "stdout",
     "output_type": "stream",
     "text": [
      "reading data for place id: _k\n",
      "reading data for place id: QE\n",
      "reading data for place id: vU\n",
      "reading data for place id: s8\n",
      "reading data for place id: Gc\n",
      "reading data for place id: kI\n",
      "reading data for place id: LQ\n",
      "reading data for place id: aM\n",
      "reading data for place id: 5U\n",
      "(9, 51552, 50, 1)\n",
      "(9, 51552)\n",
      "n_instances: 51552\n",
      "n_places: 9\n",
      "n_lags: 50\n"
     ]
    }
   ],
   "source": [
    "# read data from different places\n",
    "NUM_LAGS = 50\n",
    "bootstrap_size = 12*24*1\n",
    "ids = []\n",
    "removed_seasonality_all = []\n",
    "removed_std_all = []\n",
    "missings_all = []\n",
    "X_all = []\n",
    "y_all = []\n",
    "for fname in map(lambda place_id: place_id + '.csv', PLACE_IDS_ORDERED_FROM_NORTH_TO_SOUTH):\n",
    "    print \"reading data for place id:\", fname[-6:-4]\n",
    "    X, y, removed_seasonality, removed_std, missings = load_data('norrecampus/'+fname, NUM_LAGS, bootstrap_size)\n",
    "    ids.append(fname[-6:-4])\n",
    "    X_all.append(X)\n",
    "    y_all.append(y)\n",
    "    removed_seasonality_all.append(removed_seasonality)\n",
    "    removed_std_all.append(removed_std)\n",
    "    missings_all.append(missings)\n",
    "X_all = np.array(X_all)\n",
    "y_all = np.array(y_all)\n",
    "print X_all.shape\n",
    "print y_all.shape\n",
    "n_places = len(ids)\n",
    "n_instances = X_all.shape[1]\n",
    "print \"n_instances:\", n_instances\n",
    "print \"n_places:\", n_places\n",
    "print \"n_lags:\", NUM_LAGS"
   ]
  },
  {
   "cell_type": "code",
   "execution_count": 5,
   "metadata": {},
   "outputs": [
    {
     "name": "stdout",
     "output_type": "stream",
     "text": [
      "(51552, 50, 9, 1, 1)\n",
      "(51552, 1, 9, 1, 1)\n",
      "(51552, 50, 9, 1, 1)\n"
     ]
    }
   ],
   "source": [
    "# reshape data\n",
    "X = np.swapaxes(X_all, 0, 1)\n",
    "X = np.swapaxes(X, 1, 2)\n",
    "X = X[:,:,:,:,np.newaxis]\n",
    "print X.shape\n",
    "y = np.swapaxes(y_all, 0, 1)\n",
    "y = y[:,np.newaxis,:,np.newaxis,np.newaxis]\n",
    "print y.shape\n",
    "\n",
    "STEPS_AHEAD = 1\n",
    "X = X[:,:NUM_LAGS-STEPS_AHEAD+1,:,:]\n",
    "print X.shape"
   ]
  },
  {
   "cell_type": "code",
   "execution_count": 6,
   "metadata": {},
   "outputs": [
    {
     "name": "stdout",
     "output_type": "stream",
     "text": [
      "(25632, 50, 9, 1, 1)\n",
      "(25632, 1, 9, 1, 1)\n",
      "(25920, 50, 9, 1, 1)\n",
      "(25920, 1, 9, 1, 1)\n"
     ]
    }
   ],
   "source": [
    "n_train = 12*24*89\n",
    "n_test = n_train + 12*24*90\n",
    "X_train = X[:n_train,:]\n",
    "y_train = y[:n_train]\n",
    "X_test = X[n_train:n_test,:]\n",
    "y_test = y[n_train:n_test]\n",
    "print X_train.shape\n",
    "print y_train.shape\n",
    "print X_test.shape\n",
    "print y_test.shape"
   ]
  },
  {
   "cell_type": "code",
   "execution_count": 7,
   "metadata": {
    "collapsed": true
   },
   "outputs": [],
   "source": [
    "def compute_error(trues, predicted):\n",
    "    corr = np.corrcoef(predicted, trues)[0,1]\n",
    "    mae = np.mean(np.abs(predicted - trues))\n",
    "    mse = np.mean((predicted - trues)**2)\n",
    "    rae = np.sum(np.abs(predicted - trues)) / np.sum(np.abs(trues - np.mean(trues)))\n",
    "    rmse = np.sqrt(np.mean((predicted - trues)**2))\n",
    "    r2 = max(0, 1 - np.sum((trues-predicted)**2) / np.sum((trues - np.mean(trues))**2))\n",
    "    return corr, mae, mse, rae, rmse, r2"
   ]
  },
  {
   "cell_type": "code",
   "execution_count": 8,
   "metadata": {
    "collapsed": true
   },
   "outputs": [],
   "source": [
    "def compute_error_filtered(trues, predicted, filt):\n",
    "    trues = trues[filt]\n",
    "    predicted = predicted[filt]\n",
    "    corr = np.corrcoef(predicted, trues)[0,1]\n",
    "    mae = np.mean(np.abs(predicted - trues))\n",
    "    mse = np.mean((predicted - trues)**2)\n",
    "    rae = np.sum(np.abs(predicted - trues)) / np.sum(np.abs(trues - np.mean(trues)))\n",
    "    rmse = np.sqrt(np.mean((predicted - trues)**2))\n",
    "    r2 = max(0, 1 - np.sum((trues-predicted)**2) / np.sum((trues - np.mean(trues))**2))\n",
    "    return corr, mae, mse, rae, rmse, r2"
   ]
  },
  {
   "cell_type": "code",
   "execution_count": 9,
   "metadata": {
    "collapsed": true
   },
   "outputs": [],
   "source": [
    "def eval_quantiles(lower, upper, trues, preds):\n",
    "    N = len(trues)\n",
    "    icp = 1.0*np.sum((trues>lower) & (trues<upper)) / N\n",
    "    diffs = np.maximum(0, upper-lower)\n",
    "    mil = np.sum(diffs) / N\n",
    "    rmil = 0.0\n",
    "    for i in xrange(N):\n",
    "        if trues[i] != preds[i]:\n",
    "            rmil += diffs[i] / (np.abs(trues[i]-preds[i]))\n",
    "    rmil = rmil / N\n",
    "    clc = np.exp(-rmil*(icp-0.95))\n",
    "    return icp, mil, rmil, clc"
   ]
  },
  {
   "cell_type": "code",
   "execution_count": 10,
   "metadata": {},
   "outputs": [
    {
     "name": "stdout",
     "output_type": "stream",
     "text": [
      "aM\n"
     ]
    }
   ],
   "source": [
    "# place id of interest\n",
    "ix = 7\n",
    "print ids[ix]"
   ]
  },
  {
   "cell_type": "code",
   "execution_count": 11,
   "metadata": {},
   "outputs": [
    {
     "name": "stdout",
     "output_type": "stream",
     "text": [
      "NAIVE: 2.808   4.920   0.724\n",
      "LR:    2.287   4.245   0.794\n"
     ]
    }
   ],
   "source": [
    "# true values we want to predict\n",
    "y_true = y_test[:,0,ix,0,0] * removed_std_all[ix][n_train:n_test] + removed_seasonality_all[ix][n_train:n_test]\n",
    "\n",
    "# naive baseline\n",
    "preds_naive = y[n_train-STEPS_AHEAD:n_test-STEPS_AHEAD,0,ix,0,0] * removed_std_all[ix][n_train:n_test] + removed_seasonality_all[ix][n_train:n_test]\n",
    "corr, mae_naive, mse, rae, rmse_naive, r2_naive = compute_error(y_true, preds_naive)\n",
    "print \"NAIVE: %.3f   %.3f   %.3f\" % (mae_naive,rmse_naive,r2_naive)\n",
    "\n",
    "# linear regression\n",
    "regr = linear_model.LinearRegression()\n",
    "regr.fit(X_train[:,:,ix,0,0], y_train[:,0,ix,0,0])\n",
    "preds_lr = regr.predict(X_test[:,:,ix,0,0]) * removed_std_all[ix][n_train:n_test] + removed_seasonality_all[ix][n_train:n_test]\n",
    "\n",
    "corr, mae_lr, mse, rae, rmse_lr, r2_lr = compute_error(y_true, preds_lr)\n",
    "print \"LR:    %.3f   %.3f   %.3f\" % (mae_lr,rmse_lr,r2_lr)"
   ]
  },
  {
   "cell_type": "code",
   "execution_count": 12,
   "metadata": {
    "collapsed": true
   },
   "outputs": [],
   "source": [
    "def tilted_loss(q,y,f):\n",
    "    e = (y-f)\n",
    "    # The term inside k.mean is a one line simplification of the first equation\n",
    "    return K.mean(q*e + K.clip(-e, K.epsilon(), np.inf), axis=-1)"
   ]
  },
  {
   "cell_type": "code",
   "execution_count": 19,
   "metadata": {
    "collapsed": true
   },
   "outputs": [],
   "source": [
    "def build_model(loss=\"mse\", num_outs=1):\n",
    "    model = Sequential()\n",
    "\n",
    "    #model.add(LSTM(layers[1], input_shape=(None, layers[0]), return_sequences=True))\n",
    "    model.add(ConvLSTM2D(filters=20, kernel_size=(3, 1),\n",
    "                   input_shape=(None, 9, 1, 1),\n",
    "                   padding='same', return_sequences=False))\n",
    "#     model.add(Dropout(0.2))\n",
    "\n",
    "#     model.add(ConvLSTM2D(filters=20, kernel_size=(3, 3),\n",
    "#                        padding='same', return_sequences=False))\n",
    "    \n",
    "    #model.add(LSTM(layers[2], return_sequences=False))\n",
    "#     model.add(Dropout(0.2))\n",
    "    \n",
    "    #model.add(Dense(units=1, kernel_regularizer=regularizers.l2(0.00001)))\n",
    "    model.add(Dense(units=num_outs))\n",
    "    model.add(Activation(\"linear\"))\n",
    "\n",
    "    model.compile(loss=loss, optimizer=\"rmsprop\")\n",
    "    \n",
    "    print(model.summary())\n",
    "    \n",
    "    return model"
   ]
  },
  {
   "cell_type": "code",
   "execution_count": 20,
   "metadata": {},
   "outputs": [
    {
     "name": "stdout",
     "output_type": "stream",
     "text": [
      "(25632, 50, 9, 1, 1)\n",
      "(25632, 9, 50)\n",
      "(25632, 1, 9, 1, 1)\n"
     ]
    }
   ],
   "source": [
    "print X_train.shape\n",
    "print X_train[:,:,:,0,0].transpose([0,2,1]).shape\n",
    "print y_train.shape"
   ]
  },
  {
   "cell_type": "code",
   "execution_count": 21,
   "metadata": {},
   "outputs": [
    {
     "name": "stdout",
     "output_type": "stream",
     "text": [
      "_________________________________________________________________\n",
      "Layer (type)                 Output Shape              Param #   \n",
      "=================================================================\n",
      "conv_lst_m2d_3 (ConvLSTM2D)  (None, 9, 1, 20)          5120      \n",
      "_________________________________________________________________\n",
      "dense_3 (Dense)              (None, 9, 1, 1)           21        \n",
      "_________________________________________________________________\n",
      "activation_3 (Activation)    (None, 9, 1, 1)           0         \n",
      "=================================================================\n",
      "Total params: 5,141\n",
      "Trainable params: 5,141\n",
      "Non-trainable params: 0\n",
      "_________________________________________________________________\n",
      "None\n",
      "Train on 20505 samples, validate on 5127 samples\n",
      "Epoch 1/100\n",
      "Epoch 00000: val_loss improved from inf to 0.50244, saving model to ./tmp/ordered_places_convlstm_mean.best.hdf5\n",
      "5s - loss: 0.7847 - val_loss: 0.5024\n",
      "Epoch 2/100\n",
      "Epoch 00001: val_loss improved from 0.50244 to 0.34021, saving model to ./tmp/ordered_places_convlstm_mean.best.hdf5\n",
      "5s - loss: 0.4890 - val_loss: 0.3402\n",
      "Epoch 3/100\n",
      "Epoch 00002: val_loss improved from 0.34021 to 0.28447, saving model to ./tmp/ordered_places_convlstm_mean.best.hdf5\n",
      "5s - loss: 0.3644 - val_loss: 0.2845\n",
      "Epoch 4/100\n",
      "Epoch 00003: val_loss improved from 0.28447 to 0.26064, saving model to ./tmp/ordered_places_convlstm_mean.best.hdf5\n",
      "4s - loss: 0.3174 - val_loss: 0.2606\n",
      "Epoch 5/100\n",
      "Epoch 00004: val_loss improved from 0.26064 to 0.25782, saving model to ./tmp/ordered_places_convlstm_mean.best.hdf5\n",
      "5s - loss: 0.2977 - val_loss: 0.2578\n",
      "Epoch 6/100\n",
      "Epoch 00005: val_loss improved from 0.25782 to 0.25173, saving model to ./tmp/ordered_places_convlstm_mean.best.hdf5\n",
      "5s - loss: 0.2879 - val_loss: 0.2517\n",
      "Epoch 7/100\n",
      "Epoch 00006: val_loss improved from 0.25173 to 0.24319, saving model to ./tmp/ordered_places_convlstm_mean.best.hdf5\n",
      "5s - loss: 0.2827 - val_loss: 0.2432\n",
      "Epoch 8/100\n",
      "Epoch 00007: val_loss improved from 0.24319 to 0.24139, saving model to ./tmp/ordered_places_convlstm_mean.best.hdf5\n",
      "4s - loss: 0.2793 - val_loss: 0.2414\n",
      "Epoch 9/100\n",
      "Epoch 00008: val_loss improved from 0.24139 to 0.23831, saving model to ./tmp/ordered_places_convlstm_mean.best.hdf5\n",
      "4s - loss: 0.2773 - val_loss: 0.2383\n",
      "Epoch 10/100\n",
      "Epoch 00009: val_loss improved from 0.23831 to 0.23404, saving model to ./tmp/ordered_places_convlstm_mean.best.hdf5\n",
      "4s - loss: 0.2753 - val_loss: 0.2340\n",
      "Epoch 11/100\n",
      "Epoch 00010: val_loss did not improve\n",
      "5s - loss: 0.2742 - val_loss: 0.2345\n",
      "Epoch 12/100\n",
      "Epoch 00011: val_loss did not improve\n",
      "4s - loss: 0.2729 - val_loss: 0.2355\n",
      "Epoch 13/100\n",
      "Epoch 00012: val_loss did not improve\n",
      "5s - loss: 0.2717 - val_loss: 0.2522\n",
      "Epoch 14/100\n",
      "Epoch 00013: val_loss did not improve\n",
      "5s - loss: 0.2716 - val_loss: 0.2363\n",
      "Epoch 15/100\n",
      "Epoch 00014: val_loss improved from 0.23404 to 0.23173, saving model to ./tmp/ordered_places_convlstm_mean.best.hdf5\n",
      "5s - loss: 0.2704 - val_loss: 0.2317\n",
      "Epoch 16/100\n",
      "Epoch 00015: val_loss did not improve\n",
      "6s - loss: 0.2692 - val_loss: 0.2340\n",
      "Epoch 17/100\n",
      "Epoch 00016: val_loss did not improve\n",
      "5s - loss: 0.2691 - val_loss: 0.2432\n",
      "Epoch 18/100\n",
      "Epoch 00017: val_loss did not improve\n",
      "4s - loss: 0.2681 - val_loss: 0.2347\n",
      "Epoch 19/100\n",
      "Epoch 00018: val_loss did not improve\n",
      "4s - loss: 0.2679 - val_loss: 0.2339\n",
      "Epoch 20/100\n",
      "Epoch 00019: val_loss did not improve\n",
      "5s - loss: 0.2671 - val_loss: 0.2321\n",
      "Epoch 21/100\n",
      "Epoch 00020: val_loss did not improve\n",
      "5s - loss: 0.2667 - val_loss: 0.2319\n",
      "Epoch 22/100\n",
      "Epoch 00021: val_loss improved from 0.23173 to 0.22982, saving model to ./tmp/ordered_places_convlstm_mean.best.hdf5\n",
      "5s - loss: 0.2669 - val_loss: 0.2298\n",
      "Epoch 23/100\n",
      "Epoch 00022: val_loss did not improve\n",
      "5s - loss: 0.2659 - val_loss: 0.2333\n",
      "Epoch 24/100\n",
      "Epoch 00023: val_loss did not improve\n",
      "5s - loss: 0.2659 - val_loss: 0.2300\n",
      "Epoch 25/100\n",
      "Epoch 00024: val_loss did not improve\n",
      "4s - loss: 0.2654 - val_loss: 0.2411\n",
      "Epoch 26/100\n",
      "Epoch 00025: val_loss did not improve\n",
      "4s - loss: 0.2653 - val_loss: 0.2326\n",
      "Epoch 27/100\n",
      "Epoch 00026: val_loss did not improve\n",
      "5s - loss: 0.2650 - val_loss: 0.2485\n",
      "Epoch 28/100\n",
      "Epoch 00027: val_loss did not improve\n",
      "5s - loss: 0.2650 - val_loss: 0.2407\n",
      "Epoch 29/100\n",
      "Epoch 00028: val_loss did not improve\n",
      "5s - loss: 0.2646 - val_loss: 0.2357\n",
      "Epoch 30/100\n",
      "Epoch 00029: val_loss did not improve\n",
      "5s - loss: 0.2643 - val_loss: 0.2391\n",
      "Epoch 31/100\n",
      "Epoch 00030: val_loss did not improve\n",
      "5s - loss: 0.2641 - val_loss: 0.2313\n",
      "Epoch 32/100\n",
      "Epoch 00031: val_loss did not improve\n",
      "5s - loss: 0.2636 - val_loss: 0.2348\n",
      "Epoch 33/100\n",
      "Epoch 00032: val_loss did not improve\n",
      "5s - loss: 0.2635 - val_loss: 0.2350\n",
      "Epoch 34/100\n",
      "Epoch 00033: val_loss improved from 0.22982 to 0.22759, saving model to ./tmp/ordered_places_convlstm_mean.best.hdf5\n",
      "5s - loss: 0.2634 - val_loss: 0.2276\n",
      "Epoch 35/100\n",
      "Epoch 00034: val_loss did not improve\n",
      "5s - loss: 0.2631 - val_loss: 0.2288\n",
      "Epoch 36/100\n",
      "Epoch 00035: val_loss did not improve\n",
      "5s - loss: 0.2629 - val_loss: 0.2285\n",
      "Epoch 37/100\n",
      "Epoch 00036: val_loss did not improve\n",
      "5s - loss: 0.2628 - val_loss: 0.2325\n",
      "Epoch 38/100\n",
      "Epoch 00037: val_loss did not improve\n",
      "5s - loss: 0.2624 - val_loss: 0.2281\n",
      "Epoch 39/100\n",
      "Epoch 00038: val_loss did not improve\n",
      "5s - loss: 0.2622 - val_loss: 0.2357\n",
      "Epoch 40/100\n",
      "Epoch 00039: val_loss did not improve\n",
      "5s - loss: 0.2620 - val_loss: 0.2312\n",
      "Epoch 41/100\n",
      "Epoch 00040: val_loss did not improve\n",
      "5s - loss: 0.2621 - val_loss: 0.2284\n",
      "Epoch 42/100\n",
      "Epoch 00041: val_loss did not improve\n",
      "5s - loss: 0.2615 - val_loss: 0.2310\n",
      "Epoch 43/100\n",
      "Epoch 00042: val_loss did not improve\n",
      "5s - loss: 0.2615 - val_loss: 0.2287\n",
      "Epoch 44/100\n",
      "Epoch 00043: val_loss did not improve\n",
      "5s - loss: 0.2615 - val_loss: 0.2285\n",
      "Epoch 45/100\n",
      "Epoch 00044: val_loss did not improve\n",
      "5s - loss: 0.2611 - val_loss: 0.2277\n",
      "Epoch 46/100\n",
      "Epoch 00045: val_loss improved from 0.22759 to 0.22698, saving model to ./tmp/ordered_places_convlstm_mean.best.hdf5\n",
      "5s - loss: 0.2609 - val_loss: 0.2270\n",
      "Epoch 47/100\n",
      "Epoch 00046: val_loss did not improve\n",
      "5s - loss: 0.2609 - val_loss: 0.2277\n",
      "Epoch 48/100\n",
      "Epoch 00047: val_loss did not improve\n",
      "4s - loss: 0.2605 - val_loss: 0.2280\n",
      "Epoch 49/100\n",
      "Epoch 00048: val_loss did not improve\n",
      "4s - loss: 0.2606 - val_loss: 0.2273\n",
      "Epoch 50/100\n",
      "Epoch 00049: val_loss did not improve\n",
      "5s - loss: 0.2602 - val_loss: 0.2351\n",
      "Epoch 51/100\n",
      "Epoch 00050: val_loss did not improve\n",
      "5s - loss: 0.2602 - val_loss: 0.2306\n",
      "Epoch 52/100\n",
      "Epoch 00051: val_loss did not improve\n",
      "5s - loss: 0.2598 - val_loss: 0.2399\n",
      "Epoch 53/100\n",
      "Epoch 00052: val_loss did not improve\n",
      "5s - loss: 0.2597 - val_loss: 0.2312\n",
      "Epoch 54/100\n",
      "Epoch 00053: val_loss did not improve\n",
      "5s - loss: 0.2595 - val_loss: 0.2295\n",
      "Epoch 55/100\n",
      "Epoch 00054: val_loss improved from 0.22698 to 0.22659, saving model to ./tmp/ordered_places_convlstm_mean.best.hdf5\n",
      "5s - loss: 0.2593 - val_loss: 0.2266\n",
      "Epoch 56/100\n",
      "Epoch 00055: val_loss did not improve\n",
      "5s - loss: 0.2592 - val_loss: 0.2356\n",
      "Epoch 57/100\n",
      "Epoch 00056: val_loss did not improve\n",
      "5s - loss: 0.2590 - val_loss: 0.2297\n",
      "Epoch 58/100\n",
      "Epoch 00057: val_loss did not improve\n",
      "5s - loss: 0.2589 - val_loss: 0.2270\n",
      "Epoch 59/100\n",
      "Epoch 00058: val_loss did not improve\n",
      "5s - loss: 0.2587 - val_loss: 0.2280\n",
      "Epoch 60/100\n",
      "Epoch 00059: val_loss did not improve\n",
      "5s - loss: 0.2585 - val_loss: 0.2295\n",
      "Epoch 61/100\n",
      "Epoch 00060: val_loss did not improve\n",
      "5s - loss: 0.2584 - val_loss: 0.2355\n",
      "Epoch 62/100\n",
      "Epoch 00061: val_loss did not improve\n",
      "5s - loss: 0.2587 - val_loss: 0.2285\n",
      "Epoch 63/100\n",
      "Epoch 00062: val_loss did not improve\n",
      "5s - loss: 0.2581 - val_loss: 0.2293\n",
      "Epoch 64/100\n",
      "Epoch 00063: val_loss did not improve\n",
      "4s - loss: 0.2581 - val_loss: 0.2300\n",
      "Epoch 65/100\n",
      "Epoch 00064: val_loss did not improve\n",
      "5s - loss: 0.2576 - val_loss: 0.2381\n",
      "Epoch 66/100\n",
      "Epoch 00065: val_loss did not improve\n",
      "5s - loss: 0.2578 - val_loss: 0.2331\n",
      "Epoch 67/100\n",
      "Epoch 00066: val_loss did not improve\n",
      "5s - loss: 0.2576 - val_loss: 0.2293\n",
      "Epoch 68/100\n",
      "Epoch 00067: val_loss did not improve\n",
      "5s - loss: 0.2575 - val_loss: 0.2278\n",
      "Epoch 69/100\n",
      "Epoch 00068: val_loss did not improve\n",
      "5s - loss: 0.2572 - val_loss: 0.2273\n",
      "Epoch 70/100\n",
      "Epoch 00069: val_loss did not improve\n",
      "5s - loss: 0.2571 - val_loss: 0.2324\n",
      "Epoch 71/100\n",
      "Epoch 00070: val_loss improved from 0.22659 to 0.22641, saving model to ./tmp/ordered_places_convlstm_mean.best.hdf5\n",
      "5s - loss: 0.2572 - val_loss: 0.2264\n",
      "Epoch 72/100\n"
     ]
    },
    {
     "name": "stdout",
     "output_type": "stream",
     "text": [
      "Epoch 00071: val_loss did not improve\n",
      "5s - loss: 0.2568 - val_loss: 0.2320\n",
      "Epoch 73/100\n",
      "Epoch 00072: val_loss did not improve\n",
      "5s - loss: 0.2569 - val_loss: 0.2313\n",
      "Epoch 74/100\n",
      "Epoch 00073: val_loss did not improve\n",
      "5s - loss: 0.2568 - val_loss: 0.2275\n",
      "Epoch 75/100\n",
      "Epoch 00074: val_loss did not improve\n",
      "5s - loss: 0.2564 - val_loss: 0.2285\n",
      "Epoch 76/100\n",
      "Epoch 00075: val_loss did not improve\n",
      "5s - loss: 0.2564 - val_loss: 0.2278\n",
      "Epoch 77/100\n",
      "Epoch 00076: val_loss did not improve\n",
      "5s - loss: 0.2561 - val_loss: 0.2349\n",
      "Epoch 78/100\n",
      "Epoch 00077: val_loss did not improve\n",
      "5s - loss: 0.2561 - val_loss: 0.2289\n",
      "Epoch 79/100\n",
      "Epoch 00078: val_loss did not improve\n",
      "5s - loss: 0.2561 - val_loss: 0.2273\n",
      "Epoch 80/100\n",
      "Epoch 00079: val_loss did not improve\n",
      "5s - loss: 0.2559 - val_loss: 0.2292\n",
      "Epoch 81/100\n",
      "Epoch 00080: val_loss did not improve\n",
      "5s - loss: 0.2556 - val_loss: 0.2317\n",
      "Epoch 82/100\n",
      "Epoch 00081: val_loss did not improve\n",
      "5s - loss: 0.2557 - val_loss: 0.2332\n",
      "Epoch 83/100\n",
      "Epoch 00082: val_loss did not improve\n",
      "5s - loss: 0.2556 - val_loss: 0.2291\n",
      "Epoch 84/100\n",
      "Epoch 00083: val_loss did not improve\n",
      "5s - loss: 0.2554 - val_loss: 0.2304\n",
      "Epoch 85/100\n",
      "Epoch 00084: val_loss did not improve\n",
      "5s - loss: 0.2553 - val_loss: 0.2271\n",
      "Epoch 86/100\n",
      "Epoch 00085: val_loss did not improve\n",
      "5s - loss: 0.2551 - val_loss: 0.2338\n",
      "Epoch 87/100\n",
      "Epoch 00086: val_loss did not improve\n",
      "5s - loss: 0.2550 - val_loss: 0.2267\n",
      "Epoch 88/100\n",
      "Epoch 00087: val_loss did not improve\n",
      "5s - loss: 0.2549 - val_loss: 0.2293\n",
      "Epoch 89/100\n",
      "Epoch 00088: val_loss did not improve\n",
      "5s - loss: 0.2546 - val_loss: 0.2315\n",
      "Epoch 90/100\n",
      "Epoch 00089: val_loss did not improve\n",
      "5s - loss: 0.2548 - val_loss: 0.2307\n",
      "Epoch 91/100\n",
      "Epoch 00090: val_loss did not improve\n",
      "5s - loss: 0.2545 - val_loss: 0.2407\n",
      "Epoch 92/100\n",
      "Epoch 00091: val_loss did not improve\n",
      "5s - loss: 0.2546 - val_loss: 0.2339\n",
      "Epoch 93/100\n",
      "Epoch 00092: val_loss did not improve\n",
      "5s - loss: 0.2542 - val_loss: 0.2272\n",
      "Epoch 94/100\n",
      "Epoch 00093: val_loss did not improve\n",
      "5s - loss: 0.2541 - val_loss: 0.2275\n",
      "Epoch 95/100\n",
      "Epoch 00094: val_loss did not improve\n",
      "5s - loss: 0.2538 - val_loss: 0.2281\n",
      "Epoch 96/100\n",
      "Epoch 00095: val_loss did not improve\n",
      "5s - loss: 0.2539 - val_loss: 0.2282\n",
      "Epoch 97/100\n",
      "Epoch 00096: val_loss did not improve\n",
      "5s - loss: 0.2537 - val_loss: 0.2303\n",
      "Epoch 98/100\n",
      "Epoch 00097: val_loss did not improve\n",
      "5s - loss: 0.2537 - val_loss: 0.2275\n",
      "Epoch 99/100\n",
      "Epoch 00098: val_loss did not improve\n",
      "5s - loss: 0.2535 - val_loss: 0.2268\n",
      "Epoch 100/100\n",
      "Epoch 00099: val_loss did not improve\n",
      "5s - loss: 0.2535 - val_loss: 0.2284\n"
     ]
    },
    {
     "data": {
      "text/plain": [
       "<keras.callbacks.History at 0x7f05301cb510>"
      ]
     },
     "execution_count": 21,
     "metadata": {},
     "output_type": "execute_result"
    }
   ],
   "source": [
    "model = build_model(num_outs=1)\n",
    "\n",
    "# checkpoint best model\n",
    "checkpoint = ModelCheckpoint('./tmp/nonstacked_ordered_places_convlstm_mean.best.hdf5', monitor='val_loss', verbose=1, save_best_only=True, mode='min')\n",
    "\n",
    "model.fit(\n",
    "    X_train,\n",
    "    y_train[:,:,:,:,0].swapaxes(1,2),\n",
    "    batch_size=512,\n",
    "    epochs=100,\n",
    "    validation_split=0.2,\n",
    "    callbacks=[checkpoint],\n",
    "    verbose=2)  "
   ]
  },
  {
   "cell_type": "code",
   "execution_count": 22,
   "metadata": {},
   "outputs": [
    {
     "name": "stdout",
     "output_type": "stream",
     "text": [
      "(25920, 9, 1, 1)\n"
     ]
    }
   ],
   "source": [
    "# load weights\n",
    "model.load_weights('./tmp/nonstacked_ordered_places_convlstm_mean.best.hdf5')\n",
    "\n",
    "# make predictions\n",
    "predictions = model.predict(X_test)\n",
    "print predictions.shape"
   ]
  },
  {
   "cell_type": "code",
   "execution_count": 27,
   "metadata": {},
   "outputs": [
    {
     "name": "stdout",
     "output_type": "stream",
     "text": [
      "[ 26.97888096  39.07551036  29.41581836 ...,  32.27583918  30.72750961\n",
      "  35.95252135]\n",
      "[ 34.73226457  33.06830204  33.16504252 ...,  30.12590295  30.56989625\n",
      "  31.9929323 ]\n",
      "NN:\tMAE 1.965 ; RMSE 3.926 ; R2 0.824\n"
     ]
    }
   ],
   "source": [
    "predictions_trended = predictions.squeeze()[:, ix] * removed_std_all[ix][n_train:n_test] + removed_seasonality_all[ix][n_train:n_test]\n",
    "print predictions_trended\n",
    "print y_true\n",
    "\n",
    "def performance(model_name, y_true, preds):\n",
    "    corr, mae, mse, rae, rmse, r2 = compute_error(y_true, preds)\n",
    "    print \"%s:\\tMAE %.3f ; RMSE %.3f ; R2 %.3f\" % (model_name, mae , rmse, r2)\n",
    "    \n",
    "performance('NN', y_true, predictions_trended)"
   ]
  }
 ],
 "metadata": {
  "kernelspec": {
   "display_name": "Python 2",
   "language": "python",
   "name": "python2"
  },
  "language_info": {
   "codemirror_mode": {
    "name": "ipython",
    "version": 2
   },
   "file_extension": ".py",
   "mimetype": "text/x-python",
   "name": "python",
   "nbconvert_exporter": "python",
   "pygments_lexer": "ipython2",
   "version": "2.7.12"
  }
 },
 "nbformat": 4,
 "nbformat_minor": 2
}
