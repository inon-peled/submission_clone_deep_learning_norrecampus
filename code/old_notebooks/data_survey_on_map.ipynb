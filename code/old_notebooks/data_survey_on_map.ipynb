{
 "cells": [
  {
   "cell_type": "code",
   "execution_count": 1,
   "metadata": {},
   "outputs": [],
   "source": [
    "import functools\n",
    "from collections import defaultdict\n",
    "import numpy as np\n",
    "import matplotlib\n",
    "import matplotlib.cm as cm\n",
    "from my_gmplot import gmplot\n",
    "import pandas as pd\n",
    "from multiprocessing import Pool\n",
    "from glob import glob"
   ]
  },
  {
   "cell_type": "code",
   "execution_count": 2,
   "metadata": {},
   "outputs": [],
   "source": [
    "EXAMPLE_PLACE_ID_1 = 'ChIJZaR1M1hSUkYRxP0WkwYYy_k'\n",
    "EXAMPLE_PLACE_ID_2 = 'ChIJy35LngZTUkYRrnSgEJgzuWk'\n",
    "DATA_PATH = '/mnt/sdc1/inon/norrecampus/data/by_place_5min/'\n",
    "ALL_PLACE_IDS = [s.split('/')[-1][:-4] for s in glob(DATA_PATH + '/*.csv')]"
   ]
  },
  {
   "cell_type": "code",
   "execution_count": 3,
   "metadata": {},
   "outputs": [
    {
     "data": {
      "text/html": [
       "<div>\n",
       "<style scoped>\n",
       "    .dataframe tbody tr th:only-of-type {\n",
       "        vertical-align: middle;\n",
       "    }\n",
       "\n",
       "    .dataframe tbody tr th {\n",
       "        vertical-align: top;\n",
       "    }\n",
       "\n",
       "    .dataframe thead th {\n",
       "        text-align: right;\n",
       "    }\n",
       "</style>\n",
       "<table border=\"1\" class=\"dataframe\">\n",
       "  <thead>\n",
       "    <tr style=\"text-align: right;\">\n",
       "      <th></th>\n",
       "      <th>name</th>\n",
       "      <th>vicinity</th>\n",
       "      <th>lat</th>\n",
       "      <th>lng</th>\n",
       "      <th>type</th>\n",
       "    </tr>\n",
       "    <tr>\n",
       "      <th>place_id</th>\n",
       "      <th></th>\n",
       "      <th></th>\n",
       "      <th></th>\n",
       "      <th></th>\n",
       "      <th></th>\n",
       "    </tr>\n",
       "  </thead>\n",
       "  <tbody>\n",
       "    <tr>\n",
       "      <th>ChIJG8e8q1ZSUkYRL5Yp4xYTOtc</th>\n",
       "      <td>Jagtvej 155-153</td>\n",
       "      <td>København N</td>\n",
       "      <td>55.700785</td>\n",
       "      <td>12.555977</td>\n",
       "      <td>street_address</td>\n",
       "    </tr>\n",
       "    <tr>\n",
       "      <th>ChIJydKmJa1TUkYRofNij-GPBXo</th>\n",
       "      <td>Nørrebrogade 148-152</td>\n",
       "      <td>København N</td>\n",
       "      <td>55.694877</td>\n",
       "      <td>12.547986</td>\n",
       "      <td>street_address</td>\n",
       "    </tr>\n",
       "    <tr>\n",
       "      <th>ChIJfbnu3qxTUkYRkUsGjRdHZGE</th>\n",
       "      <td>Jagtvej</td>\n",
       "      <td>København N</td>\n",
       "      <td>55.694427</td>\n",
       "      <td>12.548895</td>\n",
       "      <td>route</td>\n",
       "    </tr>\n",
       "    <tr>\n",
       "      <th>ChIJre8_-PpSUkYRX-l8RrXs9lk</th>\n",
       "      <td>Østerbrogade 96</td>\n",
       "      <td>København Ø</td>\n",
       "      <td>55.701722</td>\n",
       "      <td>12.577434</td>\n",
       "      <td>street_address</td>\n",
       "    </tr>\n",
       "    <tr>\n",
       "      <th>ChIJT9erZFVSUkYRNiSDTV-sJzE</th>\n",
       "      <td>Tagensvej</td>\n",
       "      <td>København N</td>\n",
       "      <td>55.696247</td>\n",
       "      <td>12.561515</td>\n",
       "      <td>route</td>\n",
       "    </tr>\n",
       "  </tbody>\n",
       "</table>\n",
       "</div>"
      ],
      "text/plain": [
       "                                             name     vicinity        lat  \\\n",
       "place_id                                                                    \n",
       "ChIJG8e8q1ZSUkYRL5Yp4xYTOtc       Jagtvej 155-153  København N  55.700785   \n",
       "ChIJydKmJa1TUkYRofNij-GPBXo  Nørrebrogade 148-152  København N  55.694877   \n",
       "ChIJfbnu3qxTUkYRkUsGjRdHZGE               Jagtvej  København N  55.694427   \n",
       "ChIJre8_-PpSUkYRX-l8RrXs9lk       Østerbrogade 96  København Ø  55.701722   \n",
       "ChIJT9erZFVSUkYRNiSDTV-sJzE             Tagensvej  København N  55.696247   \n",
       "\n",
       "                                   lng            type  \n",
       "place_id                                                \n",
       "ChIJG8e8q1ZSUkYRL5Yp4xYTOtc  12.555977  street_address  \n",
       "ChIJydKmJa1TUkYRofNij-GPBXo  12.547986  street_address  \n",
       "ChIJfbnu3qxTUkYRkUsGjRdHZGE  12.548895           route  \n",
       "ChIJre8_-PpSUkYRX-l8RrXs9lk  12.577434  street_address  \n",
       "ChIJT9erZFVSUkYRNiSDTV-sJzE  12.561515           route  "
      ]
     },
     "execution_count": 3,
     "metadata": {},
     "output_type": "execute_result"
    }
   ],
   "source": [
    "LAT_LNG = pd.merge(pd.read_csv('/mnt/sdc1/inon/norrecampus/place_details.csv'),\n",
    "         pd.DataFrame().assign(place_id=ALL_PLACE_IDS),\n",
    "         on='place_id')\\\n",
    "    .set_index('place_id')\n",
    "LAT_LNG.head()"
   ]
  },
  {
   "cell_type": "code",
   "execution_count": 4,
   "metadata": {},
   "outputs": [],
   "source": [
    "def rgb(vmin, vmax, value):\n",
    "    m = cm.ScalarMappable(norm=matplotlib.colors.Normalize(vmin, vmax), cmap=cm.bwr)\n",
    "    return '#%02X%02X%02X' % tuple(int(255 * e) for e in m.to_rgba(value)[:-1])\n",
    "\n",
    "def rgb_a(vmin, vmax, value):\n",
    "    m = cm.ScalarMappable(norm=matplotlib.colors.Normalize(vmin, vmax), cmap=cm.bwr)\n",
    "    return tuple(int(255 * e) for e in m.to_rgba(value)[:-1]) + (1,)"
   ]
  },
  {
   "cell_type": "code",
   "execution_count": 5,
   "metadata": {},
   "outputs": [
    {
     "data": {
      "text/plain": [
       "[('ChIJ3fM6s1JSUkYRupTpc_OITAk', 'street_address'),\n",
       " ('ChIJ3fM6s1JSUkYRu5Tpc_OITAk', 'street_address'),\n",
       " ('ChIJaUW-ZxtTUkYRwnLO9ykWeYc', 'route'),\n",
       " ('ChIJaUW-ZxtTUkYRw3LO9ykWeYc', 'street_address'),\n",
       " ('ChIJZxF44KxTUkYR1bYg7KPbzyY', 'route'),\n",
       " ('ChIJZxF44KxTUkYR1LYg7KPbzyY', 'route')]"
      ]
     },
     "execution_count": 5,
     "metadata": {},
     "output_type": "execute_result"
    }
   ],
   "source": [
    "def plot_duplicate_place_ids():\n",
    "    dup = defaultdict(list)\n",
    "    for row in LAT_LNG.iterrows():\n",
    "        dup[(row[1]['lat'], row[1]['lng'])].append((row[0], row[1]['type']))\n",
    "    norrecampus_center = 55.697731, 12.558122\n",
    "    gmap = gmplot.GoogleMapPlotter(*norrecampus_center, 14)\n",
    "    for (lat, lng), places in dup.items():\n",
    "        gmap.circle(lat, lng, 5, rgb(0, 1, 1) if len(places) > 1 else rgb(0, 1, 0.5),\n",
    "                    ew=2 if places[0][1] == 'street_address' else 6)\n",
    "    gmap.draw('duplicate_place_ids.html')\n",
    "    return functools.reduce(lambda lst1, lst2: lst1 + lst2, filter(lambda lst: len(lst) > 1, dup.values()))\n",
    "\n",
    "duplicate_place_ids = plot_duplicate_place_ids()\n",
    "duplicate_place_ids[:6]"
   ]
  },
  {
   "cell_type": "code",
   "execution_count": 15,
   "metadata": {},
   "outputs": [],
   "source": [
    "LAT_LNG_NO_DUPS = LAT_LNG.loc[~LAT_LNG.index.isin(map(lambda pair: pair[0], duplicate_place_ids))]\n",
    "LAT_LNG_NO_DUPS.to_csv('places_no_duplicates.csv')\n",
    "assert len(LAT_LNG_NO_DUPS) == len(LAT_LNG) - len(duplicate_place_ids)"
   ]
  },
  {
   "cell_type": "code",
   "execution_count": 7,
   "metadata": {},
   "outputs": [
    {
     "data": {
      "text/html": [
       "<div>\n",
       "<style scoped>\n",
       "    .dataframe tbody tr th:only-of-type {\n",
       "        vertical-align: middle;\n",
       "    }\n",
       "\n",
       "    .dataframe tbody tr th {\n",
       "        vertical-align: top;\n",
       "    }\n",
       "\n",
       "    .dataframe thead tr th {\n",
       "        text-align: left;\n",
       "    }\n",
       "\n",
       "    .dataframe thead tr:last-of-type th {\n",
       "        text-align: right;\n",
       "    }\n",
       "</style>\n",
       "<table border=\"1\" class=\"dataframe\">\n",
       "  <thead>\n",
       "    <tr>\n",
       "      <th></th>\n",
       "      <th colspan=\"2\" halign=\"left\">flow_bucket</th>\n",
       "      <th colspan=\"2\" halign=\"left\">speed_mean</th>\n",
       "    </tr>\n",
       "    <tr>\n",
       "      <th></th>\n",
       "      <th>mean</th>\n",
       "      <th>std</th>\n",
       "      <th>mean</th>\n",
       "      <th>std</th>\n",
       "    </tr>\n",
       "    <tr>\n",
       "      <th>place_id</th>\n",
       "      <th></th>\n",
       "      <th></th>\n",
       "      <th></th>\n",
       "      <th></th>\n",
       "    </tr>\n",
       "  </thead>\n",
       "  <tbody>\n",
       "    <tr>\n",
       "      <th>ChIJRUH8NeNSUkYRK8w_lMvMqss</th>\n",
       "      <td>7.313944</td>\n",
       "      <td>1.801072</td>\n",
       "      <td>26.056915</td>\n",
       "      <td>8.421768</td>\n",
       "    </tr>\n",
       "    <tr>\n",
       "      <th>ChIJybFuBgRTUkYRTHGNpPM_g8c</th>\n",
       "      <td>6.776696</td>\n",
       "      <td>1.969826</td>\n",
       "      <td>24.804983</td>\n",
       "      <td>12.069287</td>\n",
       "    </tr>\n",
       "    <tr>\n",
       "      <th>ChIJHyMG7FFSUkYRYP3z8AjbOho</th>\n",
       "      <td>6.855222</td>\n",
       "      <td>1.770906</td>\n",
       "      <td>25.387028</td>\n",
       "      <td>8.615648</td>\n",
       "    </tr>\n",
       "    <tr>\n",
       "      <th>ChIJ49API01SUkYRXzPneRsFRJc</th>\n",
       "      <td>3.383530</td>\n",
       "      <td>1.934931</td>\n",
       "      <td>13.344248</td>\n",
       "      <td>17.232735</td>\n",
       "    </tr>\n",
       "    <tr>\n",
       "      <th>ChIJ0Tt28QNTUkYRczntLRAtIBQ</th>\n",
       "      <td>6.866719</td>\n",
       "      <td>2.143373</td>\n",
       "      <td>28.670842</td>\n",
       "      <td>11.316649</td>\n",
       "    </tr>\n",
       "  </tbody>\n",
       "</table>\n",
       "</div>"
      ],
      "text/plain": [
       "                            flow_bucket           speed_mean           \n",
       "                                   mean       std       mean        std\n",
       "place_id                                                               \n",
       "ChIJRUH8NeNSUkYRK8w_lMvMqss    7.313944  1.801072  26.056915   8.421768\n",
       "ChIJybFuBgRTUkYRTHGNpPM_g8c    6.776696  1.969826  24.804983  12.069287\n",
       "ChIJHyMG7FFSUkYRYP3z8AjbOho    6.855222  1.770906  25.387028   8.615648\n",
       "ChIJ49API01SUkYRXzPneRsFRJc    3.383530  1.934931  13.344248  17.232735\n",
       "ChIJ0Tt28QNTUkYRczntLRAtIBQ    6.866719  2.143373  28.670842  11.316649"
      ]
     },
     "execution_count": 7,
     "metadata": {},
     "output_type": "execute_result"
    }
   ],
   "source": [
    "def one_place_since_2015(place_id):\n",
    "    return pd.read_csv(DATA_PATH + place_id + '.csv')\\\n",
    "        [lambda df: df.start_interval_s >= '2015-01-01']\\\n",
    "        [['place_id', 'flow_bucket', 'speed_mean']]\\\n",
    "        .groupby('place_id')\\\n",
    "        .agg(['mean', 'std'])\n",
    "\n",
    "avgs = pd.concat(Pool(maxtasksperchild=1).imap_unordered(one_place_since_2015, ALL_PLACE_IDS))\n",
    "avgs.head()"
   ]
  },
  {
   "cell_type": "code",
   "execution_count": 8,
   "metadata": {},
   "outputs": [
    {
     "data": {
      "text/plain": [
       "place_id\n",
       "ChIJRUH8NeNSUkYRK8w_lMvMqss    26.056915\n",
       "ChIJybFuBgRTUkYRTHGNpPM_g8c    24.804983\n",
       "ChIJHyMG7FFSUkYRYP3z8AjbOho    25.387028\n",
       "ChIJ49API01SUkYRXzPneRsFRJc    13.344248\n",
       "ChIJ0Tt28QNTUkYRczntLRAtIBQ    28.670842\n",
       "Name: mean, dtype: float64"
      ]
     },
     "execution_count": 8,
     "metadata": {},
     "output_type": "execute_result"
    }
   ],
   "source": [
    "avgs.speed_mean['mean'].head()"
   ]
  },
  {
   "cell_type": "code",
   "execution_count": 9,
   "metadata": {},
   "outputs": [
    {
     "data": {
      "text/html": [
       "<div>\n",
       "<style scoped>\n",
       "    .dataframe tbody tr th:only-of-type {\n",
       "        vertical-align: middle;\n",
       "    }\n",
       "\n",
       "    .dataframe tbody tr th {\n",
       "        vertical-align: top;\n",
       "    }\n",
       "\n",
       "    .dataframe thead th {\n",
       "        text-align: right;\n",
       "    }\n",
       "</style>\n",
       "<table border=\"1\" class=\"dataframe\">\n",
       "  <thead>\n",
       "    <tr style=\"text-align: right;\">\n",
       "      <th></th>\n",
       "      <th>mean</th>\n",
       "      <th>name</th>\n",
       "      <th>vicinity</th>\n",
       "      <th>lat</th>\n",
       "      <th>lng</th>\n",
       "      <th>type</th>\n",
       "    </tr>\n",
       "    <tr>\n",
       "      <th>place_id</th>\n",
       "      <th></th>\n",
       "      <th></th>\n",
       "      <th></th>\n",
       "      <th></th>\n",
       "      <th></th>\n",
       "      <th></th>\n",
       "    </tr>\n",
       "  </thead>\n",
       "  <tbody>\n",
       "    <tr>\n",
       "      <th>ChIJRUH8NeNSUkYRK8w_lMvMqss</th>\n",
       "      <td>26.056915</td>\n",
       "      <td>Østerbrogade</td>\n",
       "      <td>København Ø</td>\n",
       "      <td>55.696621</td>\n",
       "      <td>12.579546</td>\n",
       "      <td>route</td>\n",
       "    </tr>\n",
       "    <tr>\n",
       "      <th>ChIJybFuBgRTUkYRTHGNpPM_g8c</th>\n",
       "      <td>24.804983</td>\n",
       "      <td>Øster Søgade</td>\n",
       "      <td>København K</td>\n",
       "      <td>55.687756</td>\n",
       "      <td>12.567258</td>\n",
       "      <td>route</td>\n",
       "    </tr>\n",
       "    <tr>\n",
       "      <th>ChIJHyMG7FFSUkYRYP3z8AjbOho</th>\n",
       "      <td>25.387028</td>\n",
       "      <td>Tagensvej 88</td>\n",
       "      <td>København N</td>\n",
       "      <td>55.702210</td>\n",
       "      <td>12.549674</td>\n",
       "      <td>street_address</td>\n",
       "    </tr>\n",
       "    <tr>\n",
       "      <th>ChIJ49API01SUkYRXzPneRsFRJc</th>\n",
       "      <td>13.344248</td>\n",
       "      <td>Hillerødgade 4-14</td>\n",
       "      <td>København N</td>\n",
       "      <td>55.697444</td>\n",
       "      <td>12.542425</td>\n",
       "      <td>street_address</td>\n",
       "    </tr>\n",
       "    <tr>\n",
       "      <th>ChIJ0Tt28QNTUkYRczntLRAtIBQ</th>\n",
       "      <td>28.670842</td>\n",
       "      <td>Øster Søgade</td>\n",
       "      <td>København K</td>\n",
       "      <td>55.688482</td>\n",
       "      <td>12.568230</td>\n",
       "      <td>route</td>\n",
       "    </tr>\n",
       "  </tbody>\n",
       "</table>\n",
       "</div>"
      ],
      "text/plain": [
       "                                  mean               name     vicinity  \\\n",
       "place_id                                                                 \n",
       "ChIJRUH8NeNSUkYRK8w_lMvMqss  26.056915       Østerbrogade  København Ø   \n",
       "ChIJybFuBgRTUkYRTHGNpPM_g8c  24.804983       Øster Søgade  København K   \n",
       "ChIJHyMG7FFSUkYRYP3z8AjbOho  25.387028       Tagensvej 88  København N   \n",
       "ChIJ49API01SUkYRXzPneRsFRJc  13.344248  Hillerødgade 4-14  København N   \n",
       "ChIJ0Tt28QNTUkYRczntLRAtIBQ  28.670842       Øster Søgade  København K   \n",
       "\n",
       "                                   lat        lng            type  \n",
       "place_id                                                           \n",
       "ChIJRUH8NeNSUkYRK8w_lMvMqss  55.696621  12.579546           route  \n",
       "ChIJybFuBgRTUkYRTHGNpPM_g8c  55.687756  12.567258           route  \n",
       "ChIJHyMG7FFSUkYRYP3z8AjbOho  55.702210  12.549674  street_address  \n",
       "ChIJ49API01SUkYRXzPneRsFRJc  55.697444  12.542425  street_address  \n",
       "ChIJ0Tt28QNTUkYRczntLRAtIBQ  55.688482  12.568230           route  "
      ]
     },
     "execution_count": 9,
     "metadata": {},
     "output_type": "execute_result"
    }
   ],
   "source": [
    "pd.merge(pd.DataFrame(avgs.speed_mean['mean']), LAT_LNG_NO_DUPS, left_index=True, right_index=True, how='inner').head()"
   ]
  },
  {
   "cell_type": "code",
   "execution_count": 10,
   "metadata": {},
   "outputs": [
    {
     "data": {
      "text/plain": [
       "mean                   9.18585\n",
       "name    Dag Hammarskjölds Allé\n",
       "lat                    55.6832\n",
       "lng                    12.5424\n",
       "type                     route\n",
       "dtype: object"
      ]
     },
     "execution_count": 10,
     "metadata": {},
     "output_type": "execute_result"
    }
   ],
   "source": [
    "pd.merge(pd.DataFrame(avgs.speed_mean['mean']), LAT_LNG_NO_DUPS, left_index=True, right_index=True, how='inner').min()"
   ]
  },
  {
   "cell_type": "code",
   "execution_count": 11,
   "metadata": {},
   "outputs": [],
   "source": [
    "def draw_on_map(ser, html_basename):\n",
    "    norrecampus_center = 55.697731, 12.558122\n",
    "    gmap = gmplot.GoogleMapPlotter(*norrecampus_center, 14)\n",
    "    unified = pd.merge(pd.DataFrame(ser), LAT_LNG_NO_DUPS, left_index=True, right_index=True, how='inner')\n",
    "    ser_unfolded = {}\n",
    "    for row in unified.iterrows():\n",
    "        ser_unfolded[(row[1]['lat'], row[1]['lng'])] = row[1][ser.name]\n",
    "    # BEWARE: don't use heatmap, it sums up a lot of points around intersections, thus unreliably showing high values in intersections.\n",
    "    # MISLEADING: gmap.weighted_heatmap(ser_unfolded)  # gradient=[(0,0,0,0)] + [rgb_a(0, 1, e) for e in np.arange(0, 1.01, 0.1)]\n",
    "    for (lat, lng), val in ser_unfolded.items():\n",
    "        gmap.circle(lat, lng, 5, rgb(min(ser_unfolded.values()), max(ser_unfolded.values()), val), ew=2)\n",
    "    gmap.draw(html_basename)\n",
    "    \n",
    "draw_on_map(avgs.flow_bucket['mean'], 'flow_mean.html')\n",
    "draw_on_map(avgs.flow_bucket['std'], 'flow_std.html')\n",
    "draw_on_map(avgs.speed_mean['mean'], 'speed5min_mean.html')\n",
    "draw_on_map(avgs.speed_mean['std'], 'speed5min_std.html')"
   ]
  },
  {
   "cell_type": "code",
   "execution_count": 12,
   "metadata": {},
   "outputs": [],
   "source": [
    "# TODO: Add legends"
   ]
  },
  {
   "cell_type": "code",
   "execution_count": 13,
   "metadata": {},
   "outputs": [],
   "source": [
    "def indicate_filipes_places():\n",
    "    norrecampus_center = 55.697731, 12.558122\n",
    "    gmap = gmplot.GoogleMapPlotter(*norrecampus_center, 14)\n",
    "    filipes_places = [\n",
    "        'ChIJ4QuVTlZSUkYRRDRPcHdYULQ', \n",
    "        'ChIJBTt5RlZSUkYR_SyA8BgiwaM', \n",
    "        'ChIJj1RhMlhSUkYRxwx00g4P0QE', \n",
    "        'ChIJP6TdhFdSUkYRdrsWKXZMAs8',\n",
    "        'ChIJZaR1M1hSUkYRxP0WkwYYy_k',\n",
    "        'ChIJbcDEbFZSUkYRcnQFsIj5j5U',\n",
    "        'ChIJf9Y9sFdSUkYRmaDEJhCweGc',\n",
    "        'ChIJozaGTFZSUkYRNtWl2AGUPkI',\n",
    "        'ChIJuYkcKlhSUkYRFPCipW5rTvU']\n",
    "    for row in LAT_LNG_NO_DUPS[LAT_LNG_NO_DUPS.index.isin(filipes_places)].iterrows():\n",
    "        gmap.circle(row[1].lat, row[1].lng, 5, rgb(0, 1, 0.5), ew=2)\n",
    "    gmap.draw('filipes_places.html')\n",
    "    \n",
    "indicate_filipes_places()"
   ]
  }
 ],
 "metadata": {
  "kernelspec": {
   "display_name": "Python 3",
   "language": "python",
   "name": "python3"
  },
  "language_info": {
   "codemirror_mode": {
    "name": "ipython",
    "version": 3.0
   },
   "file_extension": ".py",
   "mimetype": "text/x-python",
   "name": "python",
   "nbconvert_exporter": "python",
   "pygments_lexer": "ipython3",
   "version": "3.5.2"
  }
 },
 "nbformat": 4,
 "nbformat_minor": 0
}